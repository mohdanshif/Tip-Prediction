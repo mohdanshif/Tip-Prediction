{
 "cells": [
  {
   "cell_type": "code",
   "execution_count": 3,
   "id": "b1181b42",
   "metadata": {},
   "outputs": [
    {
     "name": "stdout",
     "output_type": "stream",
     "text": [
      "Mean Absolute Error: 0.76\n"
     ]
    }
   ],
   "source": [
    "import pandas as pd\n",
    "import seaborn as sns\n",
    "from sklearn.model_selection import train_test_split\n",
    "from sklearn.ensemble import RandomForestRegressor\n",
    "from sklearn.metrics import mean_absolute_error\n",
    "import pickle\n",
    "\n",
    "# Load the dataset\n",
    "data = sns.load_dataset('tips')\n",
    "\n",
    "# Map categorical variables to numerical values\n",
    "sex_mapping = {'Male': 0, 'Female': 1}\n",
    "smoker_mapping = {'No': 0, 'Yes': 1}\n",
    "day_mapping = {'Thur': 0, 'Fri': 1, 'Sat': 2, 'Sun': 3}\n",
    "time_mapping = {'Lunch': 0, 'Dinner': 1}\n",
    "\n",
    "data['sex'] = data['sex'].map(sex_mapping)\n",
    "data['smoker'] = data['smoker'].map(smoker_mapping)\n",
    "data['day'] = data['day'].map(day_mapping)\n",
    "data['time'] = data['time'].map(time_mapping)\n",
    "\n",
    "# Drop rows with any NaN values (can also fill with mean or other strategy)\n",
    "data = data.dropna()\n",
    "\n",
    "# Split features and target\n",
    "x = data.drop(columns=['tip'])\n",
    "y = data['tip']\n",
    "\n",
    "# Train-test split\n",
    "x_train, x_test, y_train, y_test = train_test_split(x, y, test_size=0.2, random_state=42)\n",
    "\n",
    "# Train model\n",
    "model = RandomForestRegressor()\n",
    "model.fit(x_train, y_train)\n",
    "\n",
    "# Predict and evaluate\n",
    "y_pred = model.predict(x_test)\n",
    "mae = mean_absolute_error(y_test, y_pred)\n",
    "print(f\"Mean Absolute Error: {mae:.2f}\")\n",
    "\n",
    "# Save model\n",
    "with open('model.pkl', 'wb') as model_file:\n",
    "    pickle.dump(model, model_file)\n",
    "\n",
    "# Load model (if needed)\n",
    "with open('model.pkl', 'rb') as model_file:\n",
    "    model = pickle.load(model_file)\n"
   ]
  }
 ],
 "metadata": {
  "kernelspec": {
   "display_name": "base",
   "language": "python",
   "name": "python3"
  },
  "language_info": {
   "codemirror_mode": {
    "name": "ipython",
    "version": 3
   },
   "file_extension": ".py",
   "mimetype": "text/x-python",
   "name": "python",
   "nbconvert_exporter": "python",
   "pygments_lexer": "ipython3",
   "version": "3.9.13"
  }
 },
 "nbformat": 4,
 "nbformat_minor": 5
}
